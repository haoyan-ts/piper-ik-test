{
 "cells": [
  {
   "cell_type": "markdown",
   "metadata": {},
   "source": [
    "# Pinocchio Example\n",
    "\n",
    "This notebook demonstrates basic usage of the Pinocchio library for robot kinematics and dynamics."
   ]
  },
  {
   "cell_type": "code",
   "execution_count": 2,
   "metadata": {},
   "outputs": [],
   "source": [
    "import pinocchio as pin\n",
    "import numpy as np\n",
    "import matplotlib.pyplot as plt\n",
    "\n",
    "# Set up matplotlib for notebook display\n",
    "%matplotlib inline"
   ]
  },
  {
   "cell_type": "markdown",
   "metadata": {},
   "source": [
    "## Create a Simple Robot Model\n",
    "\n",
    "Let's create a simple 2D robot with two revolute joints."
   ]
  },
  {
   "cell_type": "code",
   "execution_count": 3,
   "metadata": {},
   "outputs": [
    {
     "name": "stdout",
     "output_type": "stream",
     "text": [
      "Number of joints: 3\n",
      "Number of frames: 2\n"
     ]
    }
   ],
   "source": [
    "# Create a model\n",
    "model = pin.Model()\n",
    "\n",
    "# Create a joint configuration\n",
    "model.addJoint(0, pin.JointModelRX(), pin.SE3.Identity(), \"joint1\")\n",
    "model.addJoint(1, pin.JointModelRX(), pin.SE3(np.eye(3), np.array([1.0, 0.0, 0.0])), \"joint2\")\n",
    "\n",
    "# Add a frame to the end-effector\n",
    "model.addFrame(pin.Frame(\"end_effector\", 1, 0, pin.SE3(np.eye(3), np.array([1.0, 0.0, 0.0])), pin.FrameType.OP_FRAME))\n",
    "\n",
    "# Create data structures\n",
    "data = model.createData()\n",
    "\n",
    "# Print model information\n",
    "print(\"Number of joints:\", model.njoints)\n",
    "print(\"Number of frames:\", model.nframes)"
   ]
  },
  {
   "cell_type": "markdown",
   "metadata": {},
   "source": [
    "## Forward Kinematics Example"
   ]
  },
  {
   "cell_type": "code",
   "execution_count": 4,
   "metadata": {},
   "outputs": [
    {
     "name": "stdout",
     "output_type": "stream",
     "text": [
      "End-effector position: [1. 0. 0.]\n",
      "End-effector orientation: [[ 1.          0.          0.        ]\n",
      " [ 0.          0.70710678 -0.70710678]\n",
      " [ 0.          0.70710678  0.70710678]]\n"
     ]
    }
   ],
   "source": [
    "# Create a configuration vector\n",
    "q = pin.neutral(model)\n",
    "q[0] = np.pi/4  # Set first joint to 45 degrees\n",
    "q[1] = -np.pi/4  # Set second joint to -45 degrees\n",
    "\n",
    "# Compute forward kinematics\n",
    "pin.forwardKinematics(model, data, q)\n",
    "pin.updateFramePlacements(model, data)\n",
    "\n",
    "# Get end-effector position\n",
    "end_effector_pose = data.oMf[model.getFrameId(\"end_effector\")]\n",
    "print(\"End-effector position:\", end_effector_pose.translation)\n",
    "print(\"End-effector orientation:\", end_effector_pose.rotation)"
   ]
  },
  {
   "cell_type": "markdown",
   "metadata": {},
   "source": [
    "## Visualize Robot Configuration"
   ]
  },
  {
   "cell_type": "code",
   "execution_count": 5,
   "metadata": {},
   "outputs": [
    {
     "data": {
      "image/png": "[encoded data removed]",
      "text/plain": [
       "<Figure size 800x800 with 1 Axes>"
      ]
     },
     "metadata": {},
     "output_type": "display_data"
    }
   ],
   "source": [
    "def plot_robot(model, data, q):\n",
    "    plt.figure(figsize=(8, 8))\n",
    "    \n",
    "    # Compute forward kinematics\n",
    "    pin.forwardKinematics(model, data, q)\n",
    "    pin.updateFramePlacements(model, data)\n",
    "    \n",
    "    # Plot base\n",
    "    plt.plot([0], [0], 'ko', label='Base')\n",
    "    \n",
    "    # Plot joints and links\n",
    "    for i in range(1, model.njoints):\n",
    "        joint_pose = data.oMi[i]\n",
    "        prev_joint_pose = data.oMi[i-1]\n",
    "        \n",
    "        plt.plot([prev_joint_pose.translation[0], joint_pose.translation[0]],\n",
    "                 [prev_joint_pose.translation[1], joint_pose.translation[1]],\n",
    "                 'b-')\n",
    "        plt.plot(joint_pose.translation[0], joint_pose.translation[1], 'ro')\n",
    "    \n",
    "    # Plot end-effector\n",
    "    end_effector_pose = data.oMf[model.getFrameId(\"end_effector\")]\n",
    "    plt.plot(end_effector_pose.translation[0], end_effector_pose.translation[1], 'g*', markersize=10)\n",
    "    \n",
    "    plt.grid(True)\n",
    "    plt.axis('equal')\n",
    "    plt.title('Robot Configuration')\n",
    "    plt.legend(['Base', 'Joints', 'End-effector'])\n",
    "    plt.show()\n",
    "\n",
    "# Plot the current configuration\n",
    "plot_robot(model, data, q)"
   ]
  }
 ],
 "metadata": {
  "kernelspec": {
   "display_name": "venv",
   "language": "python",
   "name": "python3"
  },
  "language_info": {
   "codemirror_mode": {
    "name": "ipython",
    "version": 3
   },
   "file_extension": ".py",
   "mimetype": "text/x-python",
   "name": "python",
   "nbconvert_exporter": "python",
   "pygments_lexer": "ipython3",
   "version": "3.10.12"
  }
 },
 "nbformat": 4,
 "nbformat_minor": 4
}

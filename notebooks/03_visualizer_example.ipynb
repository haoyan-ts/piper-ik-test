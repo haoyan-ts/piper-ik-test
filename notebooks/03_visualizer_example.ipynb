{
 "cells": [
  {
   "cell_type": "markdown",
   "metadata": {},
   "source": [
    "# Pinocchio Visualizer Example\n",
    "\n",
    "This notebook demonstrates how to use Pinocchio's visualizer to create an interactive 3D visualization of a robot model."
   ]
  },
  {
   "cell_type": "code",
   "execution_count": 1,
   "metadata": {},
   "outputs": [
    {
     "name": "stdout",
     "output_type": "stream",
     "text": [
      "/opt/openrobots/share/\n"
     ]
    }
   ],
   "source": [
    "import sys\n",
    "sys.path.append('/home/agilex/dexhand/repo/piper-ik-test/venv/lib/python3.10/site-packages/cmeel.prefix/lib/python3.10/site-packages')\n",
    "\n",
    "# print(sys.path)\n",
    "\n",
    "import pinocchio as pin\n",
    "import numpy as np\n",
    "import os\n",
    "\n",
    "import pinocchio.visualize\n",
    "\n",
    "# Set up matplotlib for notebook display\n",
    "%matplotlib inline\n",
    "\n",
    "# set ROS_PACKAGE_PATH\n",
    "os.environ[\"ROS_PACKAGE_PATH\"] = \"/opt/openrobots/share/\"\n",
    "\n",
    "print(os.environ[\"ROS_PACKAGE_PATH\"])"
   ]
  },
  {
   "cell_type": "markdown",
   "metadata": {},
   "source": [
    "## Create a Simple Robot Model\n",
    "\n",
    "Let's create a simple 3D robot with revolute joints."
   ]
  },
  {
   "cell_type": "code",
   "execution_count": 5,
   "metadata": {},
   "outputs": [
    {
     "ename": "AttributeError",
     "evalue": "'Model' object has no attribute 'add'",
     "output_type": "error",
     "traceback": [
      "\u001b[0;31m---------------------------------------------------------------------------\u001b[0m",
      "\u001b[0;31mAttributeError\u001b[0m                            Traceback (most recent call last)",
      "Cell \u001b[0;32mIn[5], line 13\u001b[0m\n\u001b[1;32m     10\u001b[0m model\u001b[38;5;241m.\u001b[39maddFrame(pin\u001b[38;5;241m.\u001b[39mFrame(\u001b[38;5;124m\"\u001b[39m\u001b[38;5;124mend_effector\u001b[39m\u001b[38;5;124m\"\u001b[39m, \u001b[38;5;241m2\u001b[39m, \u001b[38;5;241m0\u001b[39m, pin\u001b[38;5;241m.\u001b[39mSE3(np\u001b[38;5;241m.\u001b[39meye(\u001b[38;5;241m3\u001b[39m), np\u001b[38;5;241m.\u001b[39marray([\u001b[38;5;241m1.0\u001b[39m, \u001b[38;5;241m0.0\u001b[39m, \u001b[38;5;241m0.0\u001b[39m])), pin\u001b[38;5;241m.\u001b[39mFrameType\u001b[38;5;241m.\u001b[39mOP_FRAME))\n\u001b[1;32m     12\u001b[0m \u001b[38;5;66;03m# Add a box geometry to the end-effector\u001b[39;00m\n\u001b[0;32m---> 13\u001b[0m \u001b[43mmodel\u001b[49m\u001b[38;5;241;43m.\u001b[39;49m\u001b[43madd\u001b[49m\n\u001b[1;32m     14\u001b[0m model\u001b[38;5;241m.\u001b[39maddGeometry(pin\u001b[38;5;241m.\u001b[39mGeometryModel(), pin\u001b[38;5;241m.\u001b[39mFrame(\u001b[38;5;124m\"\u001b[39m\u001b[38;5;124mend_effector\u001b[39m\u001b[38;5;124m\"\u001b[39m, \u001b[38;5;241m2\u001b[39m, \u001b[38;5;241m0\u001b[39m, pin\u001b[38;5;241m.\u001b[39mSE3(np\u001b[38;5;241m.\u001b[39meye(\u001b[38;5;241m3\u001b[39m), np\u001b[38;5;241m.\u001b[39marray([\u001b[38;5;241m1.0\u001b[39m, \u001b[38;5;241m0.0\u001b[39m, \u001b[38;5;241m0.0\u001b[39m])), pin\u001b[38;5;241m.\u001b[39mFrameType\u001b[38;5;241m.\u001b[39mOP_FRAME))\n\u001b[1;32m     16\u001b[0m \u001b[38;5;66;03m# Create data structures\u001b[39;00m\n",
      "\u001b[0;31mAttributeError\u001b[0m: 'Model' object has no attribute 'add'"
     ]
    }
   ],
   "source": [
    "# Create a model\n",
    "model = pin.Model()\n",
    "\n",
    "# Create a joint configuration\n",
    "model.addJoint(0, pin.JointModelRX(), pin.SE3.Identity(), \"joint1\")\n",
    "model.addJoint(1, pin.JointModelRY(), pin.SE3(np.eye(3), np.array([1.0, 0.0, 0.0])), \"joint2\")\n",
    "model.addJoint(2, pin.JointModelRZ(), pin.SE3(np.eye(3), np.array([1.0, 0.0, 0.0])), \"joint3\")\n",
    "\n",
    "# Add a frame to the end-effector\n",
    "model.addFrame(pin.Frame(\"end_effector\", 2, 0, pin.SE3(np.eye(3), np.array([1.0, 0.0, 0.0])), pin.FrameType.OP_FRAME))\n",
    "\n",
    "# Add a box geometry to the end-effector\n",
    "model.addGeometry(pin.GeometryModel(), pin.Frame(\"end_effector\", 2, 0, pin.SE3(np.eye(3), np.array([1.0, 0.0, 0.0])), pin.FrameType.OP_FRAME))\n",
    "\n",
    "# Create data structures\n",
    "data = model.createData()\n",
    "\n",
    "# Print model information\n",
    "print(\"Number of joints:\", model.njoints)\n",
    "print(\"Number of frames:\", model.nframes)"
   ]
  },
  {
   "cell_type": "markdown",
   "metadata": {},
   "source": [
    "## Set Up the Visualizer\n",
    "\n",
    "We'll use Pinocchio's built-in visualizer to create an interactive 3D view."
   ]
  },
  {
   "cell_type": "code",
   "execution_count": null,
   "metadata": {},
   "outputs": [],
   "source": [
    "\n",
    "# Create a visualizer\n",
    "viz = pinocchio.visualize.MeshcatVisualizer(model, model.getGeometryModel(), model.getVisualModel())\n",
    "\n",
    "# Initialize the visualizer\n",
    "viz.initViewer(open=True)\n",
    "viz.loadViewerModel()\n",
    "\n",
    "# Create a configuration vector\n",
    "q = pin.neutral(model)\n",
    "q[0] = np.pi/4  # Set first joint to 45 degrees\n",
    "q[1] = -np.pi/4  # Set second joint to -45 degrees\n",
    "q[2] = np.pi/6   # Set third joint to 30 degrees\n",
    "\n",
    "# Display the robot configuration\n",
    "viz.display(q)"
   ]
  },
  {
   "cell_type": "code",
   "execution_count": null,
   "metadata": {},
   "outputs": [],
   "source": [
    "pin.printVersion()"
   ]
  },
  {
   "cell_type": "markdown",
   "metadata": {},
   "source": [
    "## Interactive Visualization\n",
    "\n",
    "You can now interact with the 3D visualization in your browser. Try:\n",
    "1. Rotating the view by dragging with the left mouse button\n",
    "2. Panning by dragging with the right mouse button\n",
    "3. Zooming with the mouse wheel\n",
    "4. Resetting the view by clicking the 'Reset Camera' button"
   ]
  },
  {
   "cell_type": "markdown",
   "metadata": {},
   "source": [
    "## Update Robot Configuration\n",
    "\n",
    "Let's update the robot configuration and see the changes in real-time."
   ]
  },
  {
   "cell_type": "code",
   "execution_count": null,
   "metadata": {},
   "outputs": [],
   "source": [
    "import time\n",
    "\n",
    "# Create a simple animation\n",
    "for i in range(100):\n",
    "    q[0] = np.pi/4 * np.sin(i/10)  # Oscillate first joint\n",
    "    q[1] = -np.pi/4 * np.cos(i/10)  # Oscillate second joint\n",
    "    q[2] = np.pi/6 * np.sin(i/15)   # Oscillate third joint\n",
    "    \n",
    "    viz.display(q)\n",
    "    time.sleep(0.05)  # Add a small delay for smooth animation"
   ]
  },
  {
   "cell_type": "code",
   "execution_count": 14,
   "metadata": {},
   "outputs": [
    {
     "name": "stdout",
     "output_type": "stream",
     "text": [
      "/opt/openrobots/share/example-robot-data/robots/panda_description\n",
      "/opt/openrobots/share/example-robot-data/robots/panda_description/meshes\n",
      "/opt/openrobots/share/example-robot-data/robots/panda_description/urdf/panda.urdf\n",
      "You can open the visualizer by visiting the following URL:\n",
      "http://127.0.0.1:7002/static/\n",
      "[0. 0. 0. 0. 0. 0. 1. 0. 0. 0. 0. 0. 0. 0. 0. 0.]\n"
     ]
    }
   ],
   "source": [
    "from pathlib import Path\n",
    "from sys import argv\n",
    "\n",
    "import pinocchio as pin\n",
    "from pinocchio.robot_wrapper import RobotWrapper\n",
    "from pinocchio.visualize import MeshcatVisualizer\n",
    "\n",
    "# pinocchio_model_dir = Path(__file__).parent / \"external\" / \"example-robot-data\"/ \"robots\"\n",
    "openrobots_dir = Path(\"/opt/openrobots/share\")\n",
    "model_dir = openrobots_dir / \"example-robot-data\" / \"robots\" / \"panda_description\"\n",
    "mesh_dir = model_dir / \"meshes\"\n",
    "urdf_file = model_dir / \"urdf\" / \"panda.urdf\"\n",
    "\n",
    "print (model_dir)\n",
    "print(mesh_dir)\n",
    "print(urdf_file)\n",
    "\n",
    "\n",
    "root = pin.JointModelFreeFlyer()\n",
    "robot = RobotWrapper.BuildFromURDF(urdf_file, root_joint=root, verbose=True)\n",
    "viz = MeshcatVisualizer(robot.model, robot.collision_model, robot.visual_model)\n",
    "viz.initViewer(open=True)\n",
    "viz.loadViewerModel()\n",
    "\n",
    "q = pin.neutral(robot.model)\n",
    "viz.display(q)\n",
    "\n",
    "q0 = q.copy()\n",
    "print(q0)\n"
   ]
  },
  {
   "cell_type": "code",
   "execution_count": 13,
   "metadata": {},
   "outputs": [],
   "source": [
    "import time\n",
    "\n",
    "# Create a simple animation\n",
    "for i in range(100):\n",
    "    q[0] = np.pi/4 * np.sin(i/10)  # Oscillate first joint\n",
    "    # q[4] = -np.pi/4 * np.cos(i/10)  # Oscillate second joint\n",
    "    # q[5] = np.pi/6 * np.sin(i/15)   # Oscillate third joint\n",
    "    \n",
    "    viz.display(q)\n",
    "    time.sleep(0.05)  # Add a small delay for smooth animation\n",
    "\n",
    "q = pin.neutral(robot.model)\n",
    "viz.display(q)"
   ]
  }
 ],
 "metadata": {
  "kernelspec": {
   "display_name": "venv",
   "language": "python",
   "name": "python3"
  },
  "language_info": {
   "codemirror_mode": {
    "name": "ipython",
    "version": 3
   },
   "file_extension": ".py",
   "mimetype": "text/x-python",
   "name": "python",
   "nbconvert_exporter": "python",
   "pygments_lexer": "ipython3",
   "version": "3.10.12"
  }
 },
 "nbformat": 4,
 "nbformat_minor": 4
}
